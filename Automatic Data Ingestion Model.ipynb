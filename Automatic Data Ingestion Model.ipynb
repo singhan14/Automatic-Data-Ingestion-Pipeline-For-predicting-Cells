{
 "cells": [
  {
   "cell_type": "code",
   "execution_count": 8,
   "id": "4079fd97-9ede-4295-b91f-41ec0d96bbb9",
   "metadata": {},
   "outputs": [],
   "source": [
    "import pandas as pd\n",
    "import numpy as np\n",
    "import joblib\n",
    "import shap\n",
    "import matplotlib.pyplot as plt\n",
    "from catboost import CatBoostRegressor\n",
    "from sklearn.model_selection import train_test_split\n",
    "from sklearn.metrics import mean_squared_error, r2_score, mean_absolute_error\n",
    "import os"
   ]
  },
  {
   "cell_type": "markdown",
   "id": "aa9ab9a5-d602-435b-beaf-af78daab8ead",
   "metadata": {},
   "source": [
    "# Configuration"
   ]
  },
  {
   "cell_type": "code",
   "execution_count": 17,
   "id": "7fc687ed-e6b0-4743-bf52-ed3c802459f4",
   "metadata": {},
   "outputs": [],
   "source": [
    "MODEL_PATH = '/Users/singhanyadav/Documents/Python/UMAMI /catboost_model.joblib'  # Should be latest trained model\n",
    "SCHEMA_PATH = '/Users/singhanyadav/Documents/Python/UMAMI /model_schema.joblib'   # To check Base Features in Dataset\n",
    "NEW_DATA_PATH = '/Users/singhanyadav/Documents/Python/UMAMI /ML_data_media.csv'  # Base CSV file\n",
    "TARGET_COLUMN = \"Total Cell count (in 0.33cm2)\""
   ]
  },
  {
   "cell_type": "markdown",
   "id": "4d75f39c-d08b-4d91-b662-d366e571fcef",
   "metadata": {},
   "source": [
    "# Testing with Different Dataset with Variations"
   ]
  },
  {
   "cell_type": "code",
   "execution_count": 6,
   "id": "31c8bd01-6965-4690-a4b2-46fa61e61eb0",
   "metadata": {},
   "outputs": [],
   "source": [
    "new_df = pd.read_csv(\"ML_data_augmented.csv\")\n",
    "X_new = new_df.drop(columns=[TARGET_COLUMN])\n",
    "y_new = new_df[TARGET_COLUMN]"
   ]
  },
  {
   "cell_type": "markdown",
   "id": "edd4cd98-5fe5-406a-93a6-216dbfc67ed6",
   "metadata": {},
   "source": [
    "# Running a check via Model"
   ]
  },
  {
   "cell_type": "code",
   "execution_count": 19,
   "id": "69401fff-de90-47b1-9722-7e057d7906ae",
   "metadata": {},
   "outputs": [
    {
     "name": "stdout",
     "output_type": "stream",
     "text": [
      " Schema changed. Retraining required.\n"
     ]
    }
   ],
   "source": [
    "model_exists = os.path.exists(MODEL_PATH) and os.path.exists(SCHEMA_PATH)\n",
    "\n",
    "retrain_needed = True\n",
    "if model_exists:\n",
    "    old_model = joblib.load(MODEL_PATH)\n",
    "    old_schema = joblib.load(SCHEMA_PATH)\n",
    "    current_schema = X_new.columns.tolist()\n",
    "\n",
    "    if set(old_schema) == set(current_schema):\n",
    "        print(\" Schema unchanged. Checking model performance...\")\n",
    "        y_pred = old_model.predict(X_new)\n",
    "        r2 = r2_score(y_new, y_pred)\n",
    "        print(\"R^2 on new data:\", r2)\n",
    "\n",
    "        if r2 >= R2_THRESHOLD:\n",
    "            retrain_needed = False\n",
    "            print(\" R^2 above threshold. Skipping retraining.\")\n",
    "        else:\n",
    "            print(f\" R^2 below threshold ({R2_THRESHOLD}). Retraining required.\")\n",
    "    else:\n",
    "        print(\" Schema changed. Retraining required.\")"
   ]
  },
  {
   "cell_type": "markdown",
   "id": "f751e2d1-9d5b-46b0-aa75-240735e43c9c",
   "metadata": {},
   "source": [
    "# Retrain Model if Needed"
   ]
  },
  {
   "cell_type": "code",
   "execution_count": 21,
   "id": "4579203a-8268-4abc-ab08-75be0364f8ca",
   "metadata": {},
   "outputs": [
    {
     "name": "stdout",
     "output_type": "stream",
     "text": [
      " Retraining CatBoost model...\n",
      " Evaluation Metrics:\n",
      "MAE: 1315.0832905378059\n",
      "RMSE: 1605.3769828664372\n",
      "R^2: 0.722305049394022\n"
     ]
    },
    {
     "name": "stderr",
     "output_type": "stream",
     "text": [
      "/Library/Frameworks/Python.framework/Versions/3.12/lib/python3.12/site-packages/sklearn/metrics/_regression.py:492: FutureWarning: 'squared' is deprecated in version 1.4 and will be removed in 1.6. To calculate the root mean squared error, use the function'root_mean_squared_error'.\n",
      "  warnings.warn(\n"
     ]
    }
   ],
   "source": [
    "if retrain_needed:\n",
    "    print(\" Retraining CatBoost model...\")\n",
    "    X_train, X_test, y_train, y_test = train_test_split(X_new, y_new, test_size=0.2, random_state=42)\n",
    "\n",
    "    model = CatBoostRegressor(verbose=0)\n",
    "    model.fit(X_train, y_train)\n",
    "\n",
    "    y_pred = model.predict(X_test)\n",
    "    print(\" Evaluation Metrics:\")\n",
    "    print(\"MAE:\", mean_absolute_error(y_test, y_pred))\n",
    "    print(\"RMSE:\", mean_squared_error(y_test, y_pred, squared=False))\n",
    "    print(\"R^2:\", r2_score(y_test, y_pred))"
   ]
  },
  {
   "cell_type": "code",
   "execution_count": null,
   "id": "a369cb6c-0f60-4c19-a155-ee40262685ff",
   "metadata": {},
   "outputs": [],
   "source": [
    "# Saving new model\n",
    "    joblib.dump(model, newcatboost_model.joblib)\n",
    "    joblib.dump(X_new.columns.tolist(), newmodel_schema)\n",
    "    print(\" Model and schema saved.\")\n",
    "else:\n",
    "    print(\" Using existing model. No retraining performed.\")"
   ]
  },
  {
   "cell_type": "code",
   "execution_count": null,
   "id": "e4512ba4-db0a-4684-abbc-94c0f331fa22",
   "metadata": {},
   "outputs": [],
   "source": []
  }
 ],
 "metadata": {
  "kernelspec": {
   "display_name": "Python 3 (ipykernel)",
   "language": "python",
   "name": "python3"
  },
  "language_info": {
   "codemirror_mode": {
    "name": "ipython",
    "version": 3
   },
   "file_extension": ".py",
   "mimetype": "text/x-python",
   "name": "python",
   "nbconvert_exporter": "python",
   "pygments_lexer": "ipython3",
   "version": "3.12.7"
  }
 },
 "nbformat": 4,
 "nbformat_minor": 5
}
